{
 "cells": [
  {
   "cell_type": "code",
   "execution_count": null,
   "metadata": {},
   "outputs": [],
   "source": []
  },
  {
   "cell_type": "code",
   "execution_count": null,
   "metadata": {},
   "outputs": [],
   "source": [
    "import os\n",
    "import pandas as pd\n",
    "import numpy as np\n",
    "import matplotlib.pyplot as plt\n",
    "from sklearn.preprocessing import StandardScaler\n",
    "from sklearn.decomposition import PCA\n",
    "from sklearn.cluster import KMeans\n",
    "os.chdir('../scripts')\n",
    "from data_extract import excel_data_loader\n",
    "from data_cleaning import remove_outliers, replace_null_value\n",
    "from data_plot import plot_histogram,plot_box,plot_bar,plot_scatter,plot_pie\n",
    "from data_transformation import dimension_reduction,normalize"
   ]
  },
  {
   "cell_type": "code",
   "execution_count": 2,
   "metadata": {},
   "outputs": [],
   "source": [
    "file_path = \"../data/Week2_challenge_data_source.xlsx\"\n",
    "df = excel_data_loader(file_path)"
   ]
  },
  {
   "cell_type": "code",
   "execution_count": 4,
   "metadata": {},
   "outputs": [
    {
     "name": "stderr",
     "output_type": "stream",
     "text": [
      "d:\\emnet\\ee\\week_2\\scripts\\data_cleaning.py:20: FutureWarning: A value is trying to be set on a copy of a DataFrame or Series through chained assignment using an inplace method.\n",
      "The behavior will change in pandas 3.0. This inplace method will never work because the intermediate object on which we are setting values always behaves as a copy.\n",
      "\n",
      "For example, when doing 'df[col].method(value, inplace=True)', try using 'df.method({col: value}, inplace=True)' or df[col] = df[col].method(value) instead, to perform the operation inplace on the original object.\n",
      "\n",
      "\n",
      "  df[column].fillna(method='ffill', inplace=True)\n",
      "d:\\emnet\\ee\\week_2\\scripts\\data_cleaning.py:20: FutureWarning: Series.fillna with 'method' is deprecated and will raise in a future version. Use obj.ffill() or obj.bfill() instead.\n",
      "  df[column].fillna(method='ffill', inplace=True)\n",
      "d:\\emnet\\ee\\week_2\\scripts\\data_cleaning.py:16: FutureWarning: A value is trying to be set on a copy of a DataFrame or Series through chained assignment using an inplace method.\n",
      "The behavior will change in pandas 3.0. This inplace method will never work because the intermediate object on which we are setting values always behaves as a copy.\n",
      "\n",
      "For example, when doing 'df[col].method(value, inplace=True)', try using 'df.method({col: value}, inplace=True)' or df[col] = df[col].method(value) instead, to perform the operation inplace on the original object.\n",
      "\n",
      "\n",
      "  df[column].fillna(df[column].mean(),inplace=True)\n",
      "d:\\emnet\\ee\\week_2\\scripts\\data_cleaning.py:18: FutureWarning: A value is trying to be set on a copy of a DataFrame or Series through chained assignment using an inplace method.\n",
      "The behavior will change in pandas 3.0. This inplace method will never work because the intermediate object on which we are setting values always behaves as a copy.\n",
      "\n",
      "For example, when doing 'df[col].method(value, inplace=True)', try using 'df.method({col: value}, inplace=True)' or df[col] = df[col].method(value) instead, to perform the operation inplace on the original object.\n",
      "\n",
      "\n",
      "  df[column].fillna(df[column].mode()[0],inplace=True)\n"
     ]
    }
   ],
   "source": [
    "columns_with_missing_values = df.columns[df.isnull().any()].tolist()\n",
    "df = replace_null_value(df, columns_with_missing_values)\n",
    "df = remove_outliers(df)\n"
   ]
  },
  {
   "cell_type": "code",
   "execution_count": 4,
   "metadata": {},
   "outputs": [
    {
     "data": {
      "text/plain": [
       "(MSISDN/Number\n",
       " 3.362632e+10    18\n",
       " 3.361489e+10    17\n",
       " 3.362578e+10    17\n",
       " 3.365973e+10    16\n",
       " 3.367588e+10    15\n",
       " 3.376054e+10    15\n",
       " 3.366716e+10    13\n",
       " 3.360452e+10    12\n",
       " 3.376041e+10    12\n",
       " 3.360313e+10    12\n",
       " Name: Session Frequency, dtype: int64,\n",
       " MSISDN/Number\n",
       " 3.362578e+10    18553754.0\n",
       " 3.361489e+10     9966898.0\n",
       " 3.376054e+10     9279434.0\n",
       " 3.362632e+10     8791927.0\n",
       " 3.366716e+10     8744914.0\n",
       " 3.366284e+10     6614270.0\n",
       " 3.366469e+10     6288730.0\n",
       " 3.360313e+10     6287761.0\n",
       " 3.366746e+10     5649882.0\n",
       " 3.376041e+10     5321667.0\n",
       " Name: Session Duration, dtype: float64,\n",
       " MSISDN/Number\n",
       " 3.361489e+10    8.846226e+09\n",
       " 3.376054e+10    8.514774e+09\n",
       " 3.362578e+10    8.499621e+09\n",
       " 3.362632e+10    7.971167e+09\n",
       " 3.367588e+10    7.891111e+09\n",
       " 3.365973e+10    7.705863e+09\n",
       " 3.366646e+10    7.308501e+09\n",
       " 3.376041e+10    7.132371e+09\n",
       " 3.366471e+10    6.872018e+09\n",
       " 3.369879e+10    6.540899e+09\n",
       " Name: Total Traffic, dtype: float64)"
      ]
     },
     "execution_count": 4,
     "metadata": {},
     "output_type": "execute_result"
    }
   ],
   "source": [
    "# Calculate the total session frequency (number of sessions) per customer\n",
    "session_frequency = df.groupby('MSISDN/Number')['Bearer Id'].count()\n",
    "\n",
    "# Calculate total session duration (in milliseconds) per customer\n",
    "session_duration = df.groupby('MSISDN/Number')['Dur. (ms)'].sum()\n",
    "\n",
    "# Calculate total traffic (download + upload) per customer\n",
    "total_traffic = df.groupby('MSISDN/Number')['Total DL (Bytes)'].sum() + df.groupby('MSISDN/Number')['Total UL (Bytes)'].sum()\n",
    "\n",
    "# Combine these metrics into a single DataFrame\n",
    "engagement_metrics = pd.DataFrame({\n",
    "    'Session Frequency': session_frequency,\n",
    "    'Session Duration': session_duration,\n",
    "    'Total Traffic': total_traffic\n",
    "})\n",
    "\n",
    "# Display the top 10 customers for each metric\n",
    "top_10_frequency = engagement_metrics['Session Frequency'].sort_values(ascending=False).head(10)\n",
    "top_10_duration = engagement_metrics['Session Duration'].sort_values(ascending=False).head(10)\n",
    "top_10_traffic = engagement_metrics['Total Traffic'].sort_values(ascending=False).head(10)\n",
    "\n",
    "top_10_frequency, top_10_duration, top_10_traffic\n"
   ]
  },
  {
   "cell_type": "code",
   "execution_count": 5,
   "metadata": {},
   "outputs": [
    {
     "data": {
      "text/html": [
       "<div>\n",
       "<style scoped>\n",
       "    .dataframe tbody tr th:only-of-type {\n",
       "        vertical-align: middle;\n",
       "    }\n",
       "\n",
       "    .dataframe tbody tr th {\n",
       "        vertical-align: top;\n",
       "    }\n",
       "\n",
       "    .dataframe thead th {\n",
       "        text-align: right;\n",
       "    }\n",
       "</style>\n",
       "<table border=\"1\" class=\"dataframe\">\n",
       "  <thead>\n",
       "    <tr style=\"text-align: right;\">\n",
       "      <th></th>\n",
       "      <th>Session Frequency</th>\n",
       "      <th>Session Duration</th>\n",
       "      <th>Total Traffic</th>\n",
       "    </tr>\n",
       "  </thead>\n",
       "  <tbody>\n",
       "    <tr>\n",
       "      <th>0</th>\n",
       "      <td>0.000000</td>\n",
       "      <td>0.005908</td>\n",
       "      <td>0.095931</td>\n",
       "    </tr>\n",
       "    <tr>\n",
       "      <th>1</th>\n",
       "      <td>0.000000</td>\n",
       "      <td>0.009387</td>\n",
       "      <td>0.014026</td>\n",
       "    </tr>\n",
       "    <tr>\n",
       "      <th>2</th>\n",
       "      <td>0.000000</td>\n",
       "      <td>0.006892</td>\n",
       "      <td>0.063851</td>\n",
       "    </tr>\n",
       "    <tr>\n",
       "      <th>3</th>\n",
       "      <td>0.000000</td>\n",
       "      <td>0.002304</td>\n",
       "      <td>0.044148</td>\n",
       "    </tr>\n",
       "    <tr>\n",
       "      <th>4</th>\n",
       "      <td>0.058824</td>\n",
       "      <td>0.001615</td>\n",
       "      <td>0.161598</td>\n",
       "    </tr>\n",
       "  </tbody>\n",
       "</table>\n",
       "</div>"
      ],
      "text/plain": [
       "   Session Frequency  Session Duration  Total Traffic\n",
       "0           0.000000          0.005908       0.095931\n",
       "1           0.000000          0.009387       0.014026\n",
       "2           0.000000          0.006892       0.063851\n",
       "3           0.000000          0.002304       0.044148\n",
       "4           0.058824          0.001615       0.161598"
      ]
     },
     "execution_count": 5,
     "metadata": {},
     "output_type": "execute_result"
    }
   ],
   "source": [
    "# Convert the normalized data back into a DataFrame\n",
    "normalized_engagement_df = normalize(engagement_metrics)\n",
    "\n",
    "# Display the normalized metrics\n",
    "normalized_engagement_df.head()\n"
   ]
  },
  {
   "cell_type": "code",
   "execution_count": 6,
   "metadata": {},
   "outputs": [
    {
     "data": {
      "text/html": [
       "<div>\n",
       "<style scoped>\n",
       "    .dataframe tbody tr th:only-of-type {\n",
       "        vertical-align: middle;\n",
       "    }\n",
       "\n",
       "    .dataframe tbody tr th {\n",
       "        vertical-align: top;\n",
       "    }\n",
       "\n",
       "    .dataframe thead tr th {\n",
       "        text-align: left;\n",
       "    }\n",
       "\n",
       "    .dataframe thead tr:last-of-type th {\n",
       "        text-align: right;\n",
       "    }\n",
       "</style>\n",
       "<table border=\"1\" class=\"dataframe\">\n",
       "  <thead>\n",
       "    <tr>\n",
       "      <th></th>\n",
       "      <th colspan=\"4\" halign=\"left\">Session Frequency</th>\n",
       "      <th colspan=\"4\" halign=\"left\">Session Duration</th>\n",
       "      <th colspan=\"4\" halign=\"left\">Total Traffic</th>\n",
       "    </tr>\n",
       "    <tr>\n",
       "      <th></th>\n",
       "      <th>min</th>\n",
       "      <th>max</th>\n",
       "      <th>mean</th>\n",
       "      <th>sum</th>\n",
       "      <th>min</th>\n",
       "      <th>max</th>\n",
       "      <th>mean</th>\n",
       "      <th>sum</th>\n",
       "      <th>min</th>\n",
       "      <th>max</th>\n",
       "      <th>mean</th>\n",
       "      <th>sum</th>\n",
       "    </tr>\n",
       "    <tr>\n",
       "      <th>Cluster</th>\n",
       "      <th></th>\n",
       "      <th></th>\n",
       "      <th></th>\n",
       "      <th></th>\n",
       "      <th></th>\n",
       "      <th></th>\n",
       "      <th></th>\n",
       "      <th></th>\n",
       "      <th></th>\n",
       "      <th></th>\n",
       "      <th></th>\n",
       "      <th></th>\n",
       "    </tr>\n",
       "  </thead>\n",
       "  <tbody>\n",
       "    <tr>\n",
       "      <th>0</th>\n",
       "      <td>2</td>\n",
       "      <td>4</td>\n",
       "      <td>2.176052</td>\n",
       "      <td>47068</td>\n",
       "      <td>18235.0</td>\n",
       "      <td>3174824.0</td>\n",
       "      <td>213600.528202</td>\n",
       "      <td>4.620179e+09</td>\n",
       "      <td>2.842182e+08</td>\n",
       "      <td>1.873330e+09</td>\n",
       "      <td>1.125421e+09</td>\n",
       "      <td>2.434285e+13</td>\n",
       "    </tr>\n",
       "    <tr>\n",
       "      <th>1</th>\n",
       "      <td>3</td>\n",
       "      <td>18</td>\n",
       "      <td>4.248279</td>\n",
       "      <td>17282</td>\n",
       "      <td>46896.0</td>\n",
       "      <td>18553754.0</td>\n",
       "      <td>569329.970747</td>\n",
       "      <td>2.316034e+09</td>\n",
       "      <td>1.085994e+09</td>\n",
       "      <td>8.846226e+09</td>\n",
       "      <td>2.280321e+09</td>\n",
       "      <td>9.276344e+12</td>\n",
       "    </tr>\n",
       "    <tr>\n",
       "      <th>2</th>\n",
       "      <td>1</td>\n",
       "      <td>2</td>\n",
       "      <td>1.042226</td>\n",
       "      <td>84585</td>\n",
       "      <td>7142.0</td>\n",
       "      <td>1573420.0</td>\n",
       "      <td>106984.202543</td>\n",
       "      <td>8.682624e+09</td>\n",
       "      <td>3.324901e+07</td>\n",
       "      <td>9.507607e+08</td>\n",
       "      <td>4.955057e+08</td>\n",
       "      <td>4.021425e+13</td>\n",
       "    </tr>\n",
       "  </tbody>\n",
       "</table>\n",
       "</div>"
      ],
      "text/plain": [
       "        Session Frequency                      Session Duration              \\\n",
       "                      min max      mean    sum              min         max   \n",
       "Cluster                                                                       \n",
       "0                       2   4  2.176052  47068          18235.0   3174824.0   \n",
       "1                       3  18  4.248279  17282          46896.0  18553754.0   \n",
       "2                       1   2  1.042226  84585           7142.0   1573420.0   \n",
       "\n",
       "                                     Total Traffic                \\\n",
       "                  mean           sum           min           max   \n",
       "Cluster                                                            \n",
       "0        213600.528202  4.620179e+09  2.842182e+08  1.873330e+09   \n",
       "1        569329.970747  2.316034e+09  1.085994e+09  8.846226e+09   \n",
       "2        106984.202543  8.682624e+09  3.324901e+07  9.507607e+08   \n",
       "\n",
       "                                     \n",
       "                 mean           sum  \n",
       "Cluster                              \n",
       "0        1.125421e+09  2.434285e+13  \n",
       "1        2.280321e+09  9.276344e+12  \n",
       "2        4.955057e+08  4.021425e+13  "
      ]
     },
     "execution_count": 6,
     "metadata": {},
     "output_type": "execute_result"
    }
   ],
   "source": [
    "#Apply K-Means Clustering (k=3)\n",
    "from sklearn.cluster import KMeans\n",
    "\n",
    "# Perform K-means clustering with 3 clusters\n",
    "kmeans = KMeans(n_clusters=3, random_state=42)\n",
    "engagement_metrics['Cluster'] = kmeans.fit_predict(normalized_engagement_df)\n",
    "\n",
    "# Compute the minimum, maximum, average, and total non-normalized metrics per cluster\n",
    "cluster_summary = engagement_metrics.groupby('Cluster').agg(\n",
    "    {'Session Frequency': ['min', 'max', 'mean', 'sum'],\n",
    "     'Session Duration': ['min', 'max', 'mean', 'sum'],\n",
    "     'Total Traffic': ['min', 'max', 'mean', 'sum']})\n",
    "\n",
    "# Display the cluster summary\n",
    "cluster_summary\n"
   ]
  },
  {
   "cell_type": "markdown",
   "metadata": {},
   "source": [
    "Task 2.1 - Aggregate User Total Traffic Per Application\n",
    "We will aggregate the total traffic for each application (Social Media, Google, YouTube, etc.) per user and identify the most engaged users for each application."
   ]
  },
  {
   "cell_type": "code",
   "execution_count": 9,
   "metadata": {},
   "outputs": [
    {
     "data": {
      "text/plain": [
       "MSISDN/Number\n",
       "3.361489e+10    8.156743e+09\n",
       "3.376054e+10    7.811295e+09\n",
       "3.362578e+10    7.770043e+09\n",
       "3.367588e+10    7.309542e+09\n",
       "3.362632e+10    7.301517e+09\n",
       "3.365973e+10    7.081602e+09\n",
       "3.366646e+10    6.903440e+09\n",
       "3.376041e+10    6.610852e+09\n",
       "3.366471e+10    6.400774e+09\n",
       "3.369879e+10    6.010556e+09\n",
       "dtype: float64"
      ]
     },
     "execution_count": 9,
     "metadata": {},
     "output_type": "execute_result"
    }
   ],
   "source": [
    "# Aggregate total traffic per application (sum of DL + UL per user)\n",
    "applications = ['Social Media DL (Bytes)', 'Google DL (Bytes)', 'Email DL (Bytes)', \n",
    "                'Youtube DL (Bytes)', 'Netflix DL (Bytes)', 'Gaming DL (Bytes)']\n",
    "\n",
    "# Calculate total traffic per application\n",
    "application_traffic = df.groupby('MSISDN/Number')[applications].sum()\n",
    "\n",
    "# Get the top 10 most engaged users per application\n",
    "top_10_applications = application_traffic.sum(axis=1).sort_values(ascending=False).head(10)\n",
    "\n",
    "top_10_applications\n"
   ]
  },
  {
   "cell_type": "markdown",
   "metadata": {},
   "source": [
    "Task 2.1 - Plot the Top 3 Most Used Applications\n",
    "We will plot the top 3 most used applications based on the total data usage."
   ]
  },
  {
   "cell_type": "code",
   "execution_count": 11,
   "metadata": {},
   "outputs": [
    {
     "data": {
      "image/png": "[encoded data removed]",
      "text/plain": [
       "<Figure size 1000x600 with 1 Axes>"
      ]
     },
     "metadata": {},
     "output_type": "display_data"
    }
   ],
   "source": [
    "# Sum up the total traffic for each application\n",
    "total_app_traffic = application_traffic.sum()\n",
    "\n",
    "# Sort and get the top 3 most used applications\n",
    "top_3_applications = total_app_traffic.sort_values(ascending=False).head(3)\n",
    "\n",
    "# Plot the top 3 most used applications\n",
    "plt.figure(figsize=(10, 6))\n",
    "plt.bar(top_3_applications.index, top_3_applications.values, color=['blue', 'green', 'orange'])\n",
    "plt.title('Top 3 Most Used Applications (Total Traffic)', fontsize=16)\n",
    "plt.xlabel('Application', fontsize=14)\n",
    "plt.ylabel('Total Traffic (Bytes)', fontsize=14)\n",
    "plt.xticks(fontsize=12)\n",
    "plt.yticks(fontsize=12)\n",
    "plt.grid(axis='y', linestyle='--', alpha=0.7)\n",
    "plt.show()\n"
   ]
  },
  {
   "cell_type": "markdown",
   "metadata": {},
   "source": [
    "Task 2.1 - Use Elbow Method to Determine the Optimized Value of k\n",
    "To find the optimal number of clusters for K-means, we can use the Elbow Method. This method involves plotting the within-cluster sum of squares (WCSS) for different values of k and identifying the \"elbow\" point where the rate of decrease slows down"
   ]
  },
  {
   "cell_type": "code",
   "execution_count": 12,
   "metadata": {},
   "outputs": [
    {
     "data": {
      "image/png": "[encoded data removed]",
      "text/plain": [
       "<Figure size 1000x600 with 1 Axes>"
      ]
     },
     "metadata": {},
     "output_type": "display_data"
    }
   ],
   "source": [
    "import matplotlib.pyplot as plt\n",
    "\n",
    "# Calculate WCSS (Within-cluster sum of squares) for different k values\n",
    "wcss = []\n",
    "for k in range(1, 11):\n",
    "    kmeans = KMeans(n_clusters=k, random_state=42)\n",
    "    kmeans.fit(normalized_engagement_df)\n",
    "    wcss.append(kmeans.inertia_)\n",
    "\n",
    "# Plot the elbow graph\n",
    "plt.figure(figsize=(10, 6))\n",
    "plt.plot(range(1, 11), wcss, marker='o')\n",
    "plt.title('Elbow Method for Optimal k')\n",
    "plt.xlabel('Number of Clusters (k)')\n",
    "plt.ylabel('WCSS')\n",
    "plt.show()\n"
   ]
  },
  {
   "cell_type": "markdown",
   "metadata": {},
   "source": []
  }
 ],
 "metadata": {
  "kernelspec": {
   "display_name": "week_two",
   "language": "python",
   "name": "python3"
  },
  "language_info": {
   "codemirror_mode": {
    "name": "ipython",
    "version": 3
   },
   "file_extension": ".py",
   "mimetype": "text/x-python",
   "name": "python",
   "nbconvert_exporter": "python",
   "pygments_lexer": "ipython3",
   "version": "3.11.9"
  }
 },
 "nbformat": 4,
 "nbformat_minor": 2
}
